{
 "cells": [
  {
   "cell_type": "markdown",
   "metadata": {},
   "source": [
    "# Understanding of Network Analysis using Network with an example of 2022 FIFA World Cup: South Korea vs Portugal Match"
   ]
  },
  {
   "cell_type": "markdown",
   "metadata": {},
   "source": [
    "* This notebook is copied and fixed some errors from https://github.com/indrag49/football-analysis-project"
   ]
  },
  {
   "cell_type": "markdown",
   "metadata": {},
   "source": [
    "## 1. Import required Python libraries"
   ]
  },
  {
   "cell_type": "code",
   "execution_count": null,
   "metadata": {},
   "outputs": [],
   "source": [
    "from statsbombpy import sb\n",
    "import matplotlib.pyplot as plt\n",
    "from mplsoccer.pitch import Pitch\n",
    "import seaborn as sns\n",
    "import numpy as np\n",
    "import pandas as pd\n",
    "import networkx as nx\n",
    "import math"
   ]
  },
  {
   "cell_type": "markdown",
   "metadata": {},
   "source": [
    "## 2. Get Competitions data from https://statsbomb.com/"
   ]
  },
  {
   "cell_type": "code",
   "execution_count": null,
   "metadata": {},
   "outputs": [],
   "source": [
    "sb.competitions()"
   ]
  },
  {
   "cell_type": "markdown",
   "metadata": {},
   "source": [
    "## 3. Extract 2022 FIFA World Cup data from Competitions data"
   ]
  },
  {
   "cell_type": "code",
   "execution_count": null,
   "metadata": {
    "scrolled": false
   },
   "outputs": [],
   "source": [
    "sb.matches(competition_id=43, season_id=106).head(60)"
   ]
  },
  {
   "cell_type": "markdown",
   "metadata": {},
   "source": [
    "## 4. Extract South Korea vs Portugal Match data"
   ]
  },
  {
   "cell_type": "code",
   "execution_count": null,
   "metadata": {},
   "outputs": [],
   "source": [
    "events=sb.events(match_id=3857262)\n",
    "events.head()"
   ]
  },
  {
   "cell_type": "markdown",
   "metadata": {},
   "source": [
    "## 5. Analyze South Korea vs Portugal Match"
   ]
  },
  {
   "cell_type": "markdown",
   "metadata": {},
   "source": [
    "### 5.1 Rearrange Dataframe using several column names"
   ]
  },
  {
   "cell_type": "code",
   "execution_count": null,
   "metadata": {},
   "outputs": [],
   "source": [
    "events_1=events[['team', 'type', 'minute', 'location', 'pass_end_location', 'pass_outcome', 'player']]\n",
    "events_1"
   ]
  },
  {
   "cell_type": "markdown",
   "metadata": {},
   "source": [
    "### 5.2 Check all players"
   ]
  },
  {
   "cell_type": "code",
   "execution_count": null,
   "metadata": {},
   "outputs": [],
   "source": [
    "events_1.player.unique()"
   ]
  },
  {
   "cell_type": "markdown",
   "metadata": {},
   "source": [
    "### 5.3 Select \"Heung-Min Son\" to analyze his performance"
   ]
  },
  {
   "cell_type": "code",
   "execution_count": null,
   "metadata": {},
   "outputs": [],
   "source": [
    "events_1=events_1[events_1['player']=='Heung-Min Son'].reset_index()\n",
    "events_1"
   ]
  },
  {
   "cell_type": "markdown",
   "metadata": {},
   "source": [
    "### 5.4 Check types of Performance"
   ]
  },
  {
   "cell_type": "code",
   "execution_count": null,
   "metadata": {},
   "outputs": [],
   "source": [
    "events_1.type.unique()"
   ]
  },
  {
   "cell_type": "markdown",
   "metadata": {},
   "source": [
    "### 5.5 \"Pass\" Analysis"
   ]
  },
  {
   "cell_type": "markdown",
   "metadata": {},
   "source": [
    "#### 5.5.1 Select \"Pass\" "
   ]
  },
  {
   "cell_type": "code",
   "execution_count": null,
   "metadata": {},
   "outputs": [],
   "source": [
    "events_1 = events_1[events_1['type'].isin(['Pass'])]\n",
    "events_1"
   ]
  },
  {
   "cell_type": "markdown",
   "metadata": {},
   "source": [
    "#### 5.5.2 Display his Pass during the match"
   ]
  },
  {
   "cell_type": "code",
   "execution_count": null,
   "metadata": {},
   "outputs": [],
   "source": [
    "Loc = events_1['location']\n",
    "Loc = pd.DataFrame(Loc.to_list(), columns=['x', 'y'])\n",
    "\n",
    "pitch = Pitch(pitch_type='statsbomb',\n",
    "              pitch_color='grass', line_color='#c7d5cc', \n",
    "              stripe=True)\n",
    "fig, ax = pitch.draw(figsize=(13.5, 8), constrained_layout=True, tight_layout=False)\n",
    "#plt.gca().invert_yaxis()\n",
    "\n",
    "kde = pitch.kdeplot(\n",
    "    Loc['x'], Loc['y'], ax=ax,\n",
    "    fill=True, levels=100,\n",
    "    # shade the lowest area so it looks smooth\n",
    "    # so even if there are no events it gets some color\n",
    "    shade_lowest=True,\n",
    "    thresh=0.05,\n",
    "    alpha = 0.5,\n",
    "    cut=4,  # extended the cut so it reaches the bottom edge\n",
    "    cmap='gnuplot')\n",
    "\n",
    "for i in range(len(events_1)):\n",
    "    if events_1.pass_outcome[i]=='Incomplete' or events_1.pass_outcome[i]=='Unknown':\n",
    "        plt.plot((events_1.location[i][0], events_1.pass_end_location[i][0]), (events_1.location[i][1], events_1.pass_end_location[i][1]), color='red')\n",
    "        plt.scatter(events_1.location[i][0], events_1.location[i][1], color='red')\n",
    "    elif events_1.pass_outcome[i]=='Pass Offside':\n",
    "        plt.plot((events_1.location[i][0], events_1.pass_end_location[i][0]), (events_1.location[i][1], events_1.pass_end_location[i][1]), color='blue')\n",
    "        plt.scatter(events_1.location[i][0], events_1.location[i][1], color='blue')\n",
    "    elif events_1.pass_outcome[i]=='Out':\n",
    "        plt.plot((events_1.location[i][0], events_1.pass_end_location[i][0]), (events_1.location[i][1], events_1.pass_end_location[i][1]), color='yellow')\n",
    "        plt.scatter(events_1.location[i][0], events_1.location[i][1], color='yellow')\n",
    "    else:\n",
    "        # successful pass, nan\n",
    "        plt.plot((events_1.location[i][0], events_1.pass_end_location[i][0]), (events_1.location[i][1], events_1.pass_end_location[i][1]), color='black')\n",
    "        plt.scatter(events_1.location[i][0], events_1.location[i][1], color='black')"
   ]
  },
  {
   "cell_type": "markdown",
   "metadata": {},
   "source": [
    "#### 5.5.4 Plot Ratio of Successful Pass "
   ]
  },
  {
   "cell_type": "code",
   "execution_count": null,
   "metadata": {},
   "outputs": [],
   "source": [
    "data=[]\n",
    "for i in range(len(events_1)):\n",
    "    if type(events_1.pass_outcome[i])==float:\n",
    "        data.append('successful')\n",
    "    else:\n",
    "        data.append('unsuccessful')"
   ]
  },
  {
   "cell_type": "code",
   "execution_count": null,
   "metadata": {},
   "outputs": [],
   "source": [
    "from matplotlib.ticker import PercentFormatter\n",
    "\n",
    "plt.hist(data, weights=np.ones(len(data)) / len(data))\n",
    "plt.gca().yaxis.set_major_formatter(PercentFormatter(1))"
   ]
  },
  {
   "cell_type": "markdown",
   "metadata": {},
   "source": [
    "### 5.6 \"Shot\" Analysis"
   ]
  },
  {
   "cell_type": "markdown",
   "metadata": {},
   "source": [
    "#### 5.6.1 Select Columns for Shot"
   ]
  },
  {
   "cell_type": "code",
   "execution_count": null,
   "metadata": {},
   "outputs": [],
   "source": [
    "events_2=events[['team', 'type', 'minute', 'location', 'shot_end_location', 'shot_outcome', 'player']]\n",
    "events_2"
   ]
  },
  {
   "cell_type": "code",
   "execution_count": null,
   "metadata": {},
   "outputs": [],
   "source": [
    "events_2 = events_2[events_2['type'].isin(['Shot'])]\n",
    "events_2"
   ]
  },
  {
   "cell_type": "markdown",
   "metadata": {},
   "source": [
    "#### 5.6.2 Check Shot Outcome types"
   ]
  },
  {
   "cell_type": "code",
   "execution_count": null,
   "metadata": {},
   "outputs": [],
   "source": [
    "events_2.shot_outcome.unique()"
   ]
  },
  {
   "cell_type": "markdown",
   "metadata": {},
   "source": [
    "#### 5.6.3 Extract X, Y location for visualization"
   ]
  },
  {
   "cell_type": "code",
   "execution_count": null,
   "metadata": {},
   "outputs": [],
   "source": [
    "shots_South_Korea = events_2[events_2['team'] == 'South Korea'].reset_index()\n",
    "shots_Portugal = events_2[events_2['team'] == 'Portugal'].reset_index()"
   ]
  },
  {
   "cell_type": "code",
   "execution_count": null,
   "metadata": {},
   "outputs": [],
   "source": [
    "shots_Loc_South_Korea = shots_South_Korea['location']\n",
    "shots_Loc_South_Korea = pd.DataFrame(shots_Loc_South_Korea.to_list(), columns=['x', 'y'])\n",
    "shots_Loc_South_Korea"
   ]
  },
  {
   "cell_type": "code",
   "execution_count": null,
   "metadata": {},
   "outputs": [],
   "source": [
    "shots_Loc_Portugal = shots_Portugal['location']\n",
    "shots_Loc_Portugal = pd.DataFrame(shots_Loc_Portugal.to_list(), columns=['x', 'y'])\n",
    "shots_Loc_Portugal"
   ]
  },
  {
   "cell_type": "markdown",
   "metadata": {},
   "source": [
    "#### 5.6.4 South Korea's Attack to Portugal"
   ]
  },
  {
   "cell_type": "code",
   "execution_count": null,
   "metadata": {},
   "outputs": [],
   "source": [
    "pitch = Pitch(pitch_type='statsbomb', pitch_color='#22312b', line_color='#c7d5cc')\n",
    "fig, ax = pitch.draw(figsize=(13.5, 8),constrained_layout=True, tight_layout=False)\n",
    "\n",
    "kde = pitch.kdeplot(\n",
    "    shots_Loc_South_Korea['x'],\n",
    "    shots_Loc_South_Korea['y'], ax=ax,\n",
    "    fill=True, levels=100,\n",
    "    # shade the lowest area so it looks smooth\n",
    "    # so even if there are no events it gets some color\n",
    "    shade_lowest=True,\n",
    "    thresh=0.05,\n",
    "    alpha = 0.7,\n",
    "    cut=4,  # extended the cut so it reaches the bottom edge\n",
    "    cmap='Pastel1')\n",
    "\n",
    "\n",
    "for i in range(len(shots_South_Korea)):\n",
    "    if shots_South_Korea.shot_outcome[i]=='Goal':\n",
    "        pitch.arrows(shots_South_Korea.location[i][0], shots_South_Korea.location[i][1], shots_South_Korea.shot_end_location[i][0], shots_South_Korea.shot_end_location[i][1], ax=ax, color='green', width=3)\n",
    "        pitch.scatter(shots_South_Korea.location[i][0], shots_South_Korea.location[i][1], ax = ax, color='green', alpha=1)\n",
    "    elif shots_South_Korea.shot_outcome[i] in ['Blocked', 'Saved']:\n",
    "        pitch.arrows(shots_South_Korea.location[i][0], shots_South_Korea.location[i][1], shots_South_Korea.shot_end_location[i][0], shots_South_Korea.shot_end_location[i][1], ax=ax, color='red', width=3)\n",
    "        pitch.scatter(shots_South_Korea.location[i][0], shots_South_Korea.location[i][1], ax = ax, color='red', alpha=1)\n",
    "    else:\n",
    "        pitch.arrows(shots_South_Korea.location[i][0], shots_South_Korea.location[i][1], shots_South_Korea.shot_end_location[i][0], shots_South_Korea.shot_end_location[i][1], ax=ax, color='orange', width=3)\n",
    "        pitch.scatter(shots_South_Korea.location[i][0], shots_South_Korea.location[i][1], ax = ax, color='orange', alpha=1)"
   ]
  },
  {
   "cell_type": "markdown",
   "metadata": {},
   "source": [
    "#### 5.6.5 Portugal's Attack to South Korea"
   ]
  },
  {
   "cell_type": "code",
   "execution_count": null,
   "metadata": {},
   "outputs": [],
   "source": [
    "pitch = Pitch(pitch_type='statsbomb', pitch_color='#22312b', line_color='#c7d5cc')\n",
    "fig, ax = pitch.draw(figsize=(13.5, 8),constrained_layout=True, tight_layout=False)\n",
    "#plt.gca().invert_yaxis()\n",
    "\n",
    "kde = pitch.kdeplot(\n",
    "    shots_Loc_Portugal['x'],\n",
    "    shots_Loc_Portugal['y'], ax=ax,\n",
    "    fill=True, levels=100,\n",
    "    # shade the lowest area so it looks smooth\n",
    "    # so even if there are no events it gets some color\n",
    "    shade_lowest=True,\n",
    "    thresh=0.05,\n",
    "    alpha = 0.7,\n",
    "    cut=4,  # extended the cut so it reaches the bottom edge\n",
    "    cmap='Pastel1')\n",
    "\n",
    "for i in range(len(shots_Portugal)):\n",
    "    if shots_Portugal.shot_outcome[i]=='Goal':\n",
    "        pitch.arrows(shots_Portugal.location[i][0], shots_Portugal.location[i][1], shots_Portugal.shot_end_location[i][0], shots_Portugal.shot_end_location[i][1], ax=ax, color='green', width=3)\n",
    "        pitch.scatter(shots_Portugal.location[i][0], shots_Portugal.location[i][1], ax = ax, color='green', alpha=1)\n",
    "    elif shots_Portugal.shot_outcome[i] in ['Blocked', 'Saved']:\n",
    "        pitch.arrows(shots_Portugal.location[i][0], shots_Portugal.location[i][1], shots_Portugal.shot_end_location[i][0], shots_Portugal.shot_end_location[i][1], ax=ax, color='red', width=3)\n",
    "        pitch.scatter(shots_Portugal.location[i][0], shots_Portugal.location[i][1], ax = ax, color='red', alpha=1)\n",
    "    else:\n",
    "        pitch.arrows(shots_Portugal.location[i][0], shots_Portugal.location[i][1], shots_Portugal.shot_end_location[i][0], shots_Portugal.shot_end_location[i][1], ax=ax, color='orange', width=3)\n",
    "        pitch.scatter(shots_Portugal.location[i][0], shots_Portugal.location[i][1], ax = ax, color='orange', alpha=1)"
   ]
  },
  {
   "cell_type": "markdown",
   "metadata": {},
   "source": [
    "### 5.7 \"Pass\" Network Analysis"
   ]
  },
  {
   "cell_type": "markdown",
   "metadata": {},
   "source": [
    "#### 5.7.1 Select Columns for Pass"
   ]
  },
  {
   "cell_type": "code",
   "execution_count": null,
   "metadata": {},
   "outputs": [],
   "source": [
    "events_3 = events[['minute', 'second', 'team', 'location', 'period', 'type', 'pass_outcome', 'player', 'position', 'pass_end_location']]\n",
    "events_3"
   ]
  },
  {
   "cell_type": "markdown",
   "metadata": {},
   "source": [
    "#### 5.7.2 Check Pass Outcome types"
   ]
  },
  {
   "cell_type": "code",
   "execution_count": null,
   "metadata": {},
   "outputs": [],
   "source": [
    "events_3.pass_outcome.unique()"
   ]
  },
  {
   "cell_type": "markdown",
   "metadata": {},
   "source": [
    "#### 5.7.3 Select South Korea Team"
   ]
  },
  {
   "cell_type": "code",
   "execution_count": null,
   "metadata": {},
   "outputs": [],
   "source": [
    "# filter for South Korea\n",
    "events_South_Korea = events_3[events_3['team']=='South Korea']\n",
    "events_South_Korea"
   ]
  },
  {
   "cell_type": "markdown",
   "metadata": {},
   "source": [
    "#### 5.7.4 Create new Columns: \"passer\" and \"recipient\" considering time"
   ]
  },
  {
   "cell_type": "code",
   "execution_count": null,
   "metadata": {},
   "outputs": [],
   "source": [
    "# Add the passer and the recipient columns\n",
    "events_South_Korea['passer'] = events_South_Korea['player']\n",
    "events_South_Korea['recipient'] = events_South_Korea['player'].shift(-1)"
   ]
  },
  {
   "cell_type": "code",
   "execution_count": null,
   "metadata": {},
   "outputs": [],
   "source": [
    "# Check added columns\n",
    "events_South_Korea"
   ]
  },
  {
   "cell_type": "markdown",
   "metadata": {},
   "source": [
    "#### 5.7.5 Select \"Pass\" Type from the DataFrame"
   ]
  },
  {
   "cell_type": "code",
   "execution_count": null,
   "metadata": {},
   "outputs": [],
   "source": [
    "# data frame with 'Pass' type\n",
    "passes_South_Korea = events_South_Korea[events_South_Korea['type'] == 'Pass']\n",
    "passes_South_Korea"
   ]
  },
  {
   "cell_type": "markdown",
   "metadata": {},
   "source": [
    "#### 5.7.6 Extract \"Successful Passes\" Type which has \"nan\" in the DataFrame"
   ]
  },
  {
   "cell_type": "code",
   "execution_count": null,
   "metadata": {},
   "outputs": [],
   "source": [
    "# Successful passes\n",
    "successful_South_Korea = passes_South_Korea[passes_South_Korea['pass_outcome'].isnull()]\n",
    "successful_South_Korea"
   ]
  },
  {
   "cell_type": "code",
   "execution_count": null,
   "metadata": {},
   "outputs": [],
   "source": [
    "# Check whether no NaNs are present in \"recipient\" columns\n",
    "sum(successful_South_Korea.recipient.isnull()+1)"
   ]
  },
  {
   "cell_type": "markdown",
   "metadata": {},
   "source": [
    "#### 5.7.7 Select data before the first substitution took place for Pass Network"
   ]
  },
  {
   "cell_type": "code",
   "execution_count": null,
   "metadata": {},
   "outputs": [],
   "source": [
    "subs_South_Korea = events_South_Korea[events_South_Korea['type']=='Substitution']\n",
    "subs_South_Korea"
   ]
  },
  {
   "cell_type": "code",
   "execution_count": null,
   "metadata": {},
   "outputs": [],
   "source": [
    "# Time when the first substituion took place\n",
    "first_sub_South_Korea_minute = subs_South_Korea['minute'].min()\n",
    "first_sub_South_Korea_minute_df = subs_South_Korea[subs_South_Korea['minute'] == first_sub_South_Korea_minute]\n",
    "first_sub_South_Korea_second = first_sub_South_Korea_minute_df['second'].min()\n",
    "first_sub_South_Korea_minute, first_sub_South_Korea_second"
   ]
  },
  {
   "cell_type": "code",
   "execution_count": null,
   "metadata": {},
   "outputs": [],
   "source": [
    "# Filter out the data for generating pass network before the first substitution took place\n",
    "successful_South_Korea = successful_South_Korea[(successful_South_Korea['minute']<=first_sub_South_Korea_minute) & (successful_South_Korea['second']<first_sub_South_Korea_second)]\n",
    "successful_South_Korea"
   ]
  },
  {
   "cell_type": "markdown",
   "metadata": {},
   "source": [
    "#### 5.7.8 Create new columns to add passer locations (x, y) and receiver locations (end_x, end_y)"
   ]
  },
  {
   "cell_type": "code",
   "execution_count": null,
   "metadata": {},
   "outputs": [],
   "source": [
    "pass_loc_South_Korea = successful_South_Korea['location']\n",
    "pass_loc_South_Korea = pd.DataFrame(pass_loc_South_Korea.to_list(), columns=['x', 'y'])\n",
    "pass_end_loc_South_Korea = successful_South_Korea['pass_end_location']\n",
    "pass_end_loc_South_Korea = pd.DataFrame(pass_end_loc_South_Korea.to_list(), columns=['end_x', 'end_y'])\n",
    "pass_end_loc_South_Korea"
   ]
  },
  {
   "cell_type": "code",
   "execution_count": null,
   "metadata": {},
   "outputs": [],
   "source": [
    "successful_South_Korea=successful_South_Korea.reset_index()\n",
    "successful_South_Korea['x'] = pass_loc_South_Korea['x']\n",
    "successful_South_Korea['y'] = pass_loc_South_Korea['y']\n",
    "successful_South_Korea['end_x'] = pass_end_loc_South_Korea['end_x']\n",
    "successful_South_Korea['end_y'] = pass_end_loc_South_Korea['end_y']\n",
    "successful_South_Korea"
   ]
  },
  {
   "cell_type": "code",
   "execution_count": null,
   "metadata": {},
   "outputs": [],
   "source": [
    "del successful_South_Korea['location']\n",
    "del successful_South_Korea['pass_end_location']\n",
    "successful_South_Korea"
   ]
  },
  {
   "cell_type": "code",
   "execution_count": null,
   "metadata": {},
   "outputs": [],
   "source": [
    "successful_South_Korea['pass_outcome'] = 'successful'\n",
    "successful_South_Korea"
   ]
  },
  {
   "cell_type": "markdown",
   "metadata": {},
   "source": [
    "#### 5.7.9  Calculate the average locations of the passer"
   ]
  },
  {
   "cell_type": "code",
   "execution_count": null,
   "metadata": {},
   "outputs": [],
   "source": [
    "avg_loc_South_Korea = successful_South_Korea.groupby('passer').agg({'x':['mean'], 'y': ['mean', 'count']})\n",
    "avg_loc_South_Korea"
   ]
  },
  {
   "cell_type": "code",
   "execution_count": null,
   "metadata": {},
   "outputs": [],
   "source": [
    "avg_loc_South_Korea.columns=['x', 'y', 'count']\n",
    "avg_loc_South_Korea"
   ]
  },
  {
   "cell_type": "markdown",
   "metadata": {},
   "source": [
    "#### 5.7.10  Create Pass Network Plot between Each Player"
   ]
  },
  {
   "cell_type": "code",
   "execution_count": null,
   "metadata": {},
   "outputs": [],
   "source": [
    "# Number of passes between each player\n",
    "pass_bet_South_Korea = successful_South_Korea.groupby(['passer', 'recipient']).index.count().reset_index()\n",
    "pass_bet_South_Korea"
   ]
  },
  {
   "cell_type": "code",
   "execution_count": null,
   "metadata": {},
   "outputs": [],
   "source": [
    "pass_bet_South_Korea.rename({'index':'pass_count'}, axis='columns', inplace=True)\n",
    "pass_bet_South_Korea"
   ]
  },
  {
   "cell_type": "code",
   "execution_count": null,
   "metadata": {},
   "outputs": [],
   "source": [
    "pass_bet_South_Korea = pass_bet_South_Korea.merge(avg_loc_South_Korea, left_on = 'passer', right_index=True)\n",
    "pass_bet_South_Korea"
   ]
  },
  {
   "cell_type": "code",
   "execution_count": null,
   "metadata": {},
   "outputs": [],
   "source": [
    "pass_bet_South_Korea = pass_bet_South_Korea.merge(avg_loc_South_Korea, left_on = 'recipient', right_index=True, suffixes=['', '_end'])\n",
    "pass_bet_South_Korea"
   ]
  },
  {
   "cell_type": "code",
   "execution_count": null,
   "metadata": {
    "scrolled": false
   },
   "outputs": [],
   "source": [
    "pitch = Pitch(pitch_type='statsbomb', pitch_color='grass', line_color='#c7d5cc')\n",
    "fig, ax = pitch.draw(figsize=(13.5, 8), constrained_layout=True, tight_layout=False)\n",
    "\n",
    "arrows = pitch.arrows(pass_bet_South_Korea.x, pass_bet_South_Korea.y, pass_bet_South_Korea.x_end, pass_bet_South_Korea.y_end, ax=ax, width=5,\n",
    "                     headwidth=3, color='white', zorder=1, alpha=0.5)\n",
    "nodes = pitch.scatter(avg_loc_South_Korea.x, avg_loc_South_Korea.y, s=400, color='red', edgecolors='black', linewidth=2.5, alpha=1, zorder=1, ax=ax)\n",
    "\n",
    "ax.set_title('Pass Network of South Korea against Portugal on 2022 FIFA World Cup (South Korea 2-1 Portugal)', size=20)"
   ]
  },
  {
   "cell_type": "markdown",
   "metadata": {},
   "source": [
    "## 6. Apply Networkx "
   ]
  },
  {
   "cell_type": "markdown",
   "metadata": {},
   "source": [
    "### 6.1  Create a DataFrame "
   ]
  },
  {
   "cell_type": "code",
   "execution_count": null,
   "metadata": {},
   "outputs": [],
   "source": [
    "graph_South_Korea = pass_bet_South_Korea[['passer', 'recipient', 'pass_count']]\n",
    "graph_South_Korea"
   ]
  },
  {
   "cell_type": "code",
   "execution_count": null,
   "metadata": {},
   "outputs": [],
   "source": [
    "graph_South_Korea.passer.unique()"
   ]
  },
  {
   "cell_type": "code",
   "execution_count": null,
   "metadata": {},
   "outputs": [],
   "source": [
    "player_number_dict = {'Gue-Sung Cho': 9, 'Heung-Min Son': 7, 'In-Beom Hwang': 6, 'Jae-Sung Lee': 10,\n",
    "                      'Jin-Su Kim': 3, 'Kang-In Lee': 18, 'Kyung-Won Kwon': 20, 'Moon-Hwan Kim': 15, \n",
    "                      'Seung-Gyu Kim': 1, 'Woo-Young Jung': 5, 'Young-Gwon Kim': 19}\n",
    "graph_South_Korea['passer'] = graph_South_Korea.passer.map(player_number_dict)\n",
    "graph_South_Korea['recipient'] = graph_South_Korea.recipient.map(player_number_dict)"
   ]
  },
  {
   "cell_type": "code",
   "execution_count": null,
   "metadata": {},
   "outputs": [],
   "source": [
    "graph_South_Korea"
   ]
  },
  {
   "cell_type": "code",
   "execution_count": null,
   "metadata": {},
   "outputs": [],
   "source": [
    "# convert the dataframe to a list of tuples\n",
    "L = graph_South_Korea.apply(tuple, axis=1).tolist()\n",
    "L"
   ]
  },
  {
   "cell_type": "markdown",
   "metadata": {},
   "source": [
    "### 6.2 Draw the NetworkX graph using Pass Data"
   ]
  },
  {
   "cell_type": "code",
   "execution_count": null,
   "metadata": {},
   "outputs": [],
   "source": [
    "# Create Object using DiGraph (Directed Network)\n",
    "G = nx.DiGraph()\n",
    "G.add_weighted_edges_from(L)\n",
    "nx.draw(G, node_size=800, with_labels=True, node_color='red')"
   ]
  },
  {
   "cell_type": "markdown",
   "metadata": {},
   "source": [
    "### 6.3 Count Degree (the number of link, the number of pass) for each player"
   ]
  },
  {
   "cell_type": "code",
   "execution_count": null,
   "metadata": {},
   "outputs": [],
   "source": [
    "# Vertex degrees, the number of link\n",
    "dict(nx.degree(G))"
   ]
  },
  {
   "cell_type": "markdown",
   "metadata": {},
   "source": [
    "### 6.4 Count Total Degree (the number of link, the number of pass) for each player"
   ]
  },
  {
   "cell_type": "code",
   "execution_count": null,
   "metadata": {},
   "outputs": [],
   "source": [
    "dic = dict(nx.degree(G))\n",
    "player = dic.keys()\n",
    "degrees = dic.values()\n",
    "degree_South_Korea = pd.DataFrame({'player':player, 'degrees':degrees})\n",
    "\n",
    "ordered = degree_South_Korea.sort_values(by = 'degrees')\n",
    "x_range = range(len(degree_South_Korea.index))\n",
    "y_range = range(math.ceil(max(degree_South_Korea.degrees)))\n",
    "\n",
    "\n",
    "plt.stem(ordered['degrees'])\n",
    "plt.xticks(x_range, ordered['player'])\n",
    "plt.yticks(y_range)\n",
    "plt.xlabel(\"player jersey number\")\n",
    "plt.ylabel(\"degree (total number of passes played)\")\n",
    "plt.title(\"Successful passes (degrees) of each player (vertex)\", size=15)"
   ]
  },
  {
   "cell_type": "markdown",
   "metadata": {},
   "source": [
    "### 6.5 Count Passes received (the number of link, the number of pass) by each player"
   ]
  },
  {
   "cell_type": "code",
   "execution_count": null,
   "metadata": {},
   "outputs": [],
   "source": [
    "dic = dict(G.in_degree())\n",
    "player = dic.keys()\n",
    "in_degrees = dic.values()\n",
    "in_degree_South_Korea = pd.DataFrame({'player':player, 'in_degrees':in_degrees})\n",
    "\n",
    "ordered = in_degree_South_Korea.sort_values(by = 'in_degrees')\n",
    "x_range = range(len(in_degree_South_Korea.index))\n",
    "y_range = range(math.ceil(max(in_degree_South_Korea.in_degrees)))\n",
    "\n",
    "\n",
    "plt.stem(ordered['in_degrees'])\n",
    "plt.xticks(x_range, ordered['player'])\n",
    "plt.yticks(y_range)\n",
    "plt.xlabel(\"player jersey number\")\n",
    "plt.ylabel(\"in degree (total number of passes received)\")\n",
    "plt.title(\"Successful passes received (indegrees) for each player (vertex)\", size=15)"
   ]
  },
  {
   "cell_type": "markdown",
   "metadata": {},
   "source": [
    "### 6.6 Count Passes given (the number of link, the number of pass) by each player"
   ]
  },
  {
   "cell_type": "code",
   "execution_count": null,
   "metadata": {},
   "outputs": [],
   "source": [
    "dic = dict(G.out_degree())\n",
    "player = dic.keys()\n",
    "out_degrees = dic.values()\n",
    "out_degree_South_Korea = pd.DataFrame({'player':player, 'out_degrees':out_degrees})\n",
    "\n",
    "ordered = out_degree_South_Korea.sort_values(by = 'out_degrees')\n",
    "x_range = range(len(out_degree_South_Korea.index))\n",
    "y_range = range(math.ceil(max(out_degree_South_Korea.out_degrees)))\n",
    "\n",
    "\n",
    "plt.stem(ordered['out_degrees'])\n",
    "plt.xticks(x_range, ordered['player'])\n",
    "plt.yticks(y_range)\n",
    "plt.xlabel(\"player jersey number\")\n",
    "plt.ylabel(\"out degree (total number of passes given)\")\n",
    "plt.title(\"Successful passes given (indegrees) by each player (vertex)\", size=15)"
   ]
  },
  {
   "cell_type": "markdown",
   "metadata": {},
   "source": [
    "### 6.7 Adjacency matrix using Pass Network Data "
   ]
  },
  {
   "cell_type": "code",
   "execution_count": null,
   "metadata": {},
   "outputs": [],
   "source": [
    "nx.draw(G, node_size=800, with_labels=True, node_color='red')"
   ]
  },
  {
   "cell_type": "code",
   "execution_count": null,
   "metadata": {},
   "outputs": [],
   "source": [
    "# Adjacency matrix of the pass network\n",
    "A = nx.adjacency_matrix(G)\n",
    "A.todense()"
   ]
  },
  {
   "cell_type": "markdown",
   "metadata": {},
   "source": [
    "### 6.8 degree correlation coefficient"
   ]
  },
  {
   "cell_type": "code",
   "execution_count": null,
   "metadata": {},
   "outputs": [],
   "source": [
    "# degree correlation coefficient of a graph\n",
    "r_degree = nx.degree_pearson_correlation_coefficient(G)\n",
    "r_degree"
   ]
  },
  {
   "cell_type": "markdown",
   "metadata": {},
   "source": [
    "n = np.shape(A)[0]\n",
    "S = 0\n",
    "dic = dict(nx.degree(G)).values()\n",
    "D = list(dic)\n",
    "\n",
    "for i in range(n):\n",
    "    for j in range(i+1, n):        \n",
    "        d_i = D[i]\n",
    "        d_j = D[j]\n",
    "        S += d_i*d_j*A[i, j]\n",
    "print(S)"
   ]
  },
  {
   "cell_type": "markdown",
   "metadata": {},
   "source": [
    "### Some distance statistics metrics"
   ]
  },
  {
   "cell_type": "markdown",
   "metadata": {},
   "source": [
    "### 6.9 Shortest Pass"
   ]
  },
  {
   "cell_type": "code",
   "execution_count": null,
   "metadata": {},
   "outputs": [],
   "source": [
    "def inv(x): \n",
    "    return 1/x\n",
    "\n",
    "GR = graph_South_Korea[:]\n",
    "GR['pass_count'] = GR['pass_count'].apply(inv)\n",
    "\n",
    "LR = GR.apply(tuple, axis=1).tolist()\n",
    "\n",
    "G_inw = nx.DiGraph()\n",
    "G_inw.add_weighted_edges_from(LR)\n",
    "nx.draw(G_inw, node_size=800, with_labels=True, node_color='green')"
   ]
  },
  {
   "cell_type": "code",
   "execution_count": null,
   "metadata": {
    "scrolled": false
   },
   "outputs": [],
   "source": [
    "dis = nx.shortest_path(G_inw, weight='pass_count')\n",
    "dis"
   ]
  },
  {
   "cell_type": "markdown",
   "metadata": {},
   "source": [
    "### 6.10 Clustering Coefficient"
   ]
  },
  {
   "cell_type": "code",
   "execution_count": null,
   "metadata": {},
   "outputs": [],
   "source": [
    "cc = nx.average_clustering(G, weight='pass_count')\n",
    "cc"
   ]
  },
  {
   "cell_type": "markdown",
   "metadata": {},
   "source": [
    "### 6.11 betweenness centrality"
   ]
  },
  {
   "cell_type": "code",
   "execution_count": null,
   "metadata": {},
   "outputs": [],
   "source": [
    "bc = nx.betweenness_centrality(G, weight='pass_count')\n",
    "bc"
   ]
  },
  {
   "cell_type": "code",
   "execution_count": null,
   "metadata": {},
   "outputs": [],
   "source": [
    "max_bc = max(bc, key=bc.get)\n",
    "max_bc"
   ]
  },
  {
   "cell_type": "markdown",
   "metadata": {},
   "source": [
    "## The jersey number 19 Young-Gwon Kim is the most important player in the pass network"
   ]
  }
 ],
 "metadata": {
  "kernelspec": {
   "display_name": "Python 3 (ipykernel)",
   "language": "python",
   "name": "python3"
  },
  "language_info": {
   "codemirror_mode": {
    "name": "ipython",
    "version": 3
   },
   "file_extension": ".py",
   "mimetype": "text/x-python",
   "name": "python",
   "nbconvert_exporter": "python",
   "pygments_lexer": "ipython3",
   "version": "3.9.15"
  }
 },
 "nbformat": 4,
 "nbformat_minor": 4
}
